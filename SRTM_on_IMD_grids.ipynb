{
 "cells": [
  {
   "cell_type": "code",
   "execution_count": 1,
   "metadata": {
    "executionInfo": {
     "elapsed": 4,
     "status": "ok",
     "timestamp": 1712880187701,
     "user": {
      "displayName": "Sreyasi Biswas",
      "userId": "00119831621840843515"
     },
     "user_tz": -330
    },
    "id": "imkD3rTNtnYy"
   },
   "outputs": [],
   "source": [
    "# AIM: To put the resampled SRTM of 0.25 (IMD) resolution on the IMD grids"
   ]
  },
  {
   "cell_type": "code",
   "execution_count": 2,
   "metadata": {
    "colab": {
     "base_uri": "https://localhost:8080/"
    },
    "executionInfo": {
     "elapsed": 27490,
     "status": "ok",
     "timestamp": 1712880221068,
     "user": {
      "displayName": "Sreyasi Biswas",
      "userId": "00119831621840843515"
     },
     "user_tz": -330
    },
    "id": "nZNubYVat1Ku",
    "outputId": "3b0c8eb0-2950-41b7-edfb-d548b743db1b"
   },
   "outputs": [
    {
     "name": "stdout",
     "output_type": "stream",
     "text": [
      "Mounted at /content/drive\n"
     ]
    }
   ],
   "source": [
    "# Mounting the google drive\n",
    "from google.colab import drive\n",
    "drive.mount('/content/drive')"
   ]
  },
  {
   "cell_type": "code",
   "execution_count": 3,
   "metadata": {
    "colab": {
     "base_uri": "https://localhost:8080/"
    },
    "executionInfo": {
     "elapsed": 9440,
     "status": "ok",
     "timestamp": 1712880237381,
     "user": {
      "displayName": "Sreyasi Biswas",
      "userId": "00119831621840843515"
     },
     "user_tz": -330
    },
    "id": "eDq8r9Gtt-yK",
    "outputId": "866ace84-2637-4670-b466-8a317ea95985"
   },
   "outputs": [
    {
     "name": "stdout",
     "output_type": "stream",
     "text": [
      "Collecting rasterio\n",
      "  Downloading rasterio-1.3.9-cp310-cp310-manylinux2014_x86_64.whl (20.6 MB)\n",
      "\u001b[2K     \u001b[90m━━━━━━━━━━━━━━━━━━━━━━━━━━━━━━━━━━━━━━━━\u001b[0m \u001b[32m20.6/20.6 MB\u001b[0m \u001b[31m51.4 MB/s\u001b[0m eta \u001b[36m0:00:00\u001b[0m\n",
      "\u001b[?25hCollecting affine (from rasterio)\n",
      "  Downloading affine-2.4.0-py3-none-any.whl (15 kB)\n",
      "Requirement already satisfied: attrs in /usr/local/lib/python3.10/dist-packages (from rasterio) (23.2.0)\n",
      "Requirement already satisfied: certifi in /usr/local/lib/python3.10/dist-packages (from rasterio) (2024.2.2)\n",
      "Requirement already satisfied: click>=4.0 in /usr/local/lib/python3.10/dist-packages (from rasterio) (8.1.7)\n",
      "Requirement already satisfied: cligj>=0.5 in /usr/local/lib/python3.10/dist-packages (from rasterio) (0.7.2)\n",
      "Requirement already satisfied: numpy in /usr/local/lib/python3.10/dist-packages (from rasterio) (1.25.2)\n",
      "Collecting snuggs>=1.4.1 (from rasterio)\n",
      "  Downloading snuggs-1.4.7-py3-none-any.whl (5.4 kB)\n",
      "Requirement already satisfied: click-plugins in /usr/local/lib/python3.10/dist-packages (from rasterio) (1.1.1)\n",
      "Requirement already satisfied: setuptools in /usr/local/lib/python3.10/dist-packages (from rasterio) (67.7.2)\n",
      "Requirement already satisfied: pyparsing>=2.1.6 in /usr/local/lib/python3.10/dist-packages (from snuggs>=1.4.1->rasterio) (3.1.2)\n",
      "Installing collected packages: snuggs, affine, rasterio\n",
      "Successfully installed affine-2.4.0 rasterio-1.3.9 snuggs-1.4.7\n"
     ]
    }
   ],
   "source": [
    "!pip install rasterio"
   ]
  },
  {
   "cell_type": "code",
   "execution_count": 4,
   "metadata": {
    "executionInfo": {
     "elapsed": 1896,
     "status": "ok",
     "timestamp": 1712880242769,
     "user": {
      "displayName": "Sreyasi Biswas",
      "userId": "00119831621840843515"
     },
     "user_tz": -330
    },
    "id": "mI4Q592bt5n8"
   },
   "outputs": [],
   "source": [
    "from osgeo import gdal\n",
    "import numpy as np\n",
    "import matplotlib.pyplot as plt\n",
    "import pandas as pd\n",
    "import os\n",
    "import glob as gb\n",
    "import xarray\n",
    "import rasterio\n",
    "from rasterio.plot import show"
   ]
  },
  {
   "cell_type": "code",
   "execution_count": 5,
   "metadata": {
    "colab": {
     "base_uri": "https://localhost:8080/"
    },
    "executionInfo": {
     "elapsed": 1048,
     "status": "ok",
     "timestamp": 1712880247001,
     "user": {
      "displayName": "Sreyasi Biswas",
      "userId": "00119831621840843515"
     },
     "user_tz": -330
    },
    "id": "XC__ZDF6uGzA",
    "outputId": "adcfe73f-4fd0-4e08-8d44-89faf72a7c15"
   },
   "outputs": [
    {
     "name": "stdout",
     "output_type": "stream",
     "text": [
      "(48, 48)\n"
     ]
    }
   ],
   "source": [
    "# converting it to numpy\n",
    "\n",
    "os.chdir(\"/content/drive/MyDrive/srtm_30m\")\n",
    "file_open=rasterio.open(\"SRTM_30m_resampled_to_IMD_ressolution_of_0.25.tif\")\n",
    "file1=file_open.read(1)\n",
    "print(file1.shape)\n"
   ]
  },
  {
   "cell_type": "code",
   "execution_count": 6,
   "metadata": {
    "executionInfo": {
     "elapsed": 702,
     "status": "ok",
     "timestamp": 1712880250187,
     "user": {
      "displayName": "Sreyasi Biswas",
      "userId": "00119831621840843515"
     },
     "user_tz": -330
    },
    "id": "WDeVfiuSuSJE"
   },
   "outputs": [],
   "source": [
    "import fiona\n",
    "import rasterio\n",
    "import rasterio.mask"
   ]
  },
  {
   "cell_type": "code",
   "execution_count": 7,
   "metadata": {
    "executionInfo": {
     "elapsed": 3,
     "status": "ok",
     "timestamp": 1712880251624,
     "user": {
      "displayName": "Sreyasi Biswas",
      "userId": "00119831621840843515"
     },
     "user_tz": -330
    },
    "id": "_lwpqfKEuWeH"
   },
   "outputs": [],
   "source": [
    "# OBJECTIVE 1: Import the latitude and the longitude of the SRTM data (resampled)."
   ]
  },
  {
   "cell_type": "code",
   "execution_count": 8,
   "metadata": {
    "colab": {
     "base_uri": "https://localhost:8080/"
    },
    "executionInfo": {
     "elapsed": 694,
     "status": "ok",
     "timestamp": 1712880255649,
     "user": {
      "displayName": "Sreyasi Biswas",
      "userId": "00119831621840843515"
     },
     "user_tz": -330
    },
    "id": "AFMt7pmauYdQ",
    "outputId": "2a45b5b1-9db1-4fa2-d55a-f744e6e4b40f"
   },
   "outputs": [
    {
     "name": "stdout",
     "output_type": "stream",
     "text": [
      "     pointid  grid_code   Latitude  Longitude\n",
      "FID                                          \n",
      "0          1       3433  38.825188  71.174965\n",
      "1          2       3686  38.825188  71.424965\n",
      "2          3       3942  38.825188  71.674965\n",
      "3          4       4372  38.825188  71.924965\n",
      "4          5       4592  38.825188  72.174965\n",
      "      Latitude  Longitude\n",
      "FID                      \n",
      "0    38.825188  71.174965\n",
      "1    38.825188  71.424965\n",
      "2    38.825188  71.674965\n",
      "3    38.825188  71.924965\n",
      "4    38.825188  72.174965\n",
      "(2304, 2)\n"
     ]
    }
   ],
   "source": [
    "\n",
    "os.chdir(\"/content/drive/MyDrive/srtm_30m\")\n",
    "srtm_df=pd.read_csv(\"srtm_lat_lon_v2.csv\",index_col=0)\n",
    "print(srtm_df.head())\n",
    "\n",
    "srtm_values=srtm_df['grid_code']\n",
    "\n",
    "srtm_lat_lon=srtm_df.drop(['pointid','grid_code'],axis=1)\n",
    "print(srtm_lat_lon.head())\n",
    "\n",
    "srtm_lat_lon_np=srtm_lat_lon.to_numpy()\n",
    "print(srtm_lat_lon_np.shape)"
   ]
  },
  {
   "cell_type": "code",
   "execution_count": 9,
   "metadata": {
    "executionInfo": {
     "elapsed": 2,
     "status": "ok",
     "timestamp": 1712880257950,
     "user": {
      "displayName": "Sreyasi Biswas",
      "userId": "00119831621840843515"
     },
     "user_tz": -330
    },
    "id": "X69gpZTdulEg"
   },
   "outputs": [],
   "source": [
    "# The following section is shapefile specific !!! ##################### START ###################"
   ]
  },
  {
   "cell_type": "code",
   "execution_count": 10,
   "metadata": {
    "executionInfo": {
     "elapsed": 600,
     "status": "ok",
     "timestamp": 1712880314156,
     "user": {
      "displayName": "Sreyasi Biswas",
      "userId": "00119831621840843515"
     },
     "user_tz": -330
    },
    "id": "6qsQNqdwuoOb"
   },
   "outputs": [],
   "source": [
    "shape_file_folder='nwh_shape_with_state_boundaries' # CHANGE HERE !!!!!!!!!!!!!!!!!!!!!!!!!!!\n",
    "shape_file='nwh.shp'\n",
    "roi=\"NWH\""
   ]
  },
  {
   "cell_type": "code",
   "execution_count": 11,
   "metadata": {
    "executionInfo": {
     "elapsed": 418,
     "status": "ok",
     "timestamp": 1712880320853,
     "user": {
      "displayName": "Sreyasi Biswas",
      "userId": "00119831621840843515"
     },
     "user_tz": -330
    },
    "id": "OtRS5XHAuquC"
   },
   "outputs": [],
   "source": [
    "# OBJECTIVE 2: To a particular shapefile, clip the region of interest from the IMD data.\n",
    "\n",
    "# Now for IMD, we first need to clip it and store it.\n",
    "# From it, I can extract the latitude and the longitude.\n",
    "# I already have the clipped IMD image, so I am not going to do it again!!!\n",
    "\n",
    "#os.chdir(\"/content/drive/MyDrive/IMD_JJAS_raster_images_daily/2009\") # Exporting an IMD file (any)\n",
    "#src_raster_path = r'2009_day_88.tif' # IMD FILE NAME\n",
    "\n",
    "# Importing the shape file\n",
    "#os.chdir(\"/content/drive/MyDrive/shapefiles/\"+shape_file_folder)\n",
    "#shp_file_path = shape_file\n",
    "\n",
    "\n",
    "\n",
    "#with fiona.open(shp_file_path, \"r\") as shapefile:\n",
    "#    shapes = [feature[\"geometry\"] for feature in shapefile]\n",
    "\n",
    "#os.chdir(\"/content/drive/MyDrive/IMD_JJAS_raster_images_daily/2009\")\n",
    "#with rasterio.open(src_raster_path) as src:\n",
    "\n",
    "#    out_image1, out_transform1 = rasterio.mask.mask(src, shapes, crop=True)\n",
    "#    out_meta1 = src.meta\n",
    "\n",
    "#out_meta1.update({\"driver\": \"GTiff\",\n",
    "#                 \"height\": out_image1.shape[1],\n",
    "#                 \"width\": out_image1.shape[2],\n",
    "#                 \"transform\": out_transform1})\n",
    "\n",
    "#os.chdir(\"/content/drive/MyDrive/experiment_folder\")\n",
    "#with rasterio.open(\"IMD_\"+roi+\"_clipped_ENTIRE_v1.tif\", \"w\", **out_meta1) as dest:\n",
    "#    dest.write(out_image1)\n",
    "\n"
   ]
  },
  {
   "cell_type": "code",
   "execution_count": 12,
   "metadata": {
    "executionInfo": {
     "elapsed": 5,
     "status": "ok",
     "timestamp": 1712880322396,
     "user": {
      "displayName": "Sreyasi Biswas",
      "userId": "00119831621840843515"
     },
     "user_tz": -330
    },
    "id": "xnLo11m5uvNa"
   },
   "outputs": [],
   "source": [
    "# Now, use ArcGIS to extract the latitude and longitude"
   ]
  },
  {
   "cell_type": "code",
   "execution_count": 13,
   "metadata": {
    "colab": {
     "base_uri": "https://localhost:8080/"
    },
    "executionInfo": {
     "elapsed": 600,
     "status": "ok",
     "timestamp": 1712880330419,
     "user": {
      "displayName": "Sreyasi Biswas",
      "userId": "00119831621840843515"
     },
     "user_tz": -330
    },
    "id": "HBsl-G_uuw0c",
    "outputId": "291fb49d-c0c6-4758-d599-b64778ea85b9"
   },
   "outputs": [
    {
     "name": "stdout",
     "output_type": "stream",
     "text": [
      "     pointid  grid_code  Latitude  Longitude\n",
      "FID                                         \n",
      "0          1        0.0     37.00      74.75\n",
      "1          2        0.0     37.00      75.25\n",
      "2          3        0.0     36.75      74.00\n",
      "3          4        0.0     36.75      74.25\n",
      "4          5        0.0     36.75      74.50\n",
      "     Latitude  Longitude\n",
      "FID                     \n",
      "0       37.00      74.75\n",
      "1       37.00      75.25\n",
      "2       36.75      74.00\n",
      "3       36.75      74.25\n",
      "4       36.75      74.50\n",
      "(517, 2)\n",
      "(517,) (517,)\n",
      "28.75 37.0\n",
      "72.75 81.0\n"
     ]
    }
   ],
   "source": [
    "# OBJECTIVE 3: Import the latitude and longitude of the IMD clipped region so prepared in ArcGIS.\n",
    "\n",
    "# Extracting the latitude and longitude file of IMD pertaining to NWH\n",
    "os.chdir(\"/content/drive/MyDrive/imd_lat_lon_folder\")\n",
    "#imd_lat_lon=pd.read_csv(\"IMD_ENTIRE_lat_lon_list.csv\",index_col=0)\n",
    "imd_lat_lon=pd.read_csv(\"IMD_NWH_lat_lon_file.csv\",index_col=0)\n",
    "print(imd_lat_lon.head())\n",
    "\n",
    "imd_df=imd_lat_lon['grid_code']\n",
    "imd_lat_lon=imd_lat_lon.drop(['pointid','grid_code'],axis=1)\n",
    "print(imd_lat_lon.head())\n",
    "imd_lat_lon_np=imd_lat_lon.to_numpy()\n",
    "print(imd_lat_lon_np.shape)\n",
    "\n",
    "# Storing the latitude and the longitude where there are values\n",
    "imd_lat=imd_lat_lon['Latitude'].to_numpy()\n",
    "imd_lon=imd_lat_lon['Longitude'].to_numpy()\n",
    "\n",
    "print(imd_lat.shape,imd_lon.shape)\n",
    "print(np.min(imd_lat),np.max(imd_lat))\n",
    "print(np.min(imd_lon),np.max(imd_lon))"
   ]
  },
  {
   "cell_type": "code",
   "execution_count": 14,
   "metadata": {
    "colab": {
     "base_uri": "https://localhost:8080/"
    },
    "executionInfo": {
     "elapsed": 412,
     "status": "ok",
     "timestamp": 1712880335738,
     "user": {
      "displayName": "Sreyasi Biswas",
      "userId": "00119831621840843515"
     },
     "user_tz": -330
    },
    "id": "H_K8xVeiuz3-",
    "outputId": "f1eb5ebe-37ed-4cbb-a7d3-5f8ddce4f27c"
   },
   "outputs": [
    {
     "name": "stdout",
     "output_type": "stream",
     "text": [
      "28.75 37.0\n",
      "72.75 81.0\n",
      "(34,)\n",
      "31.25\n",
      "28.75\n",
      "(34,)\n",
      "75.25\n",
      "72.75\n",
      "37.0\n",
      "81.0\n"
     ]
    }
   ],
   "source": [
    "# OBJECTIVE 4: Creating a lat and lon file of IMD configuration using the IMD lat-lon values. This will be used to create meshgrid.\n",
    "print(np.min(imd_lat),np.max(imd_lat))\n",
    "print(np.min(imd_lon),np.max(imd_lon))\n",
    "\n",
    "lat_srtm_new=np.arange(np.min(imd_lat),np.max(imd_lat)+0.25,0.25)\n",
    "print(lat_srtm_new.shape)\n",
    "print(lat_srtm_new[10])\n",
    "print(lat_srtm_new[0])\n",
    "\n",
    "lon_srtm_new=np.arange(np.min(imd_lon),np.max(imd_lon)+0.25,0.25)\n",
    "print(lon_srtm_new.shape)\n",
    "print(lon_srtm_new[10])\n",
    "print(lon_srtm_new[0])\n",
    "\n",
    "\n",
    "print(np.max(lat_srtm_new))\n",
    "print(np.max(lon_srtm_new))"
   ]
  },
  {
   "cell_type": "code",
   "execution_count": 15,
   "metadata": {
    "colab": {
     "base_uri": "https://localhost:8080/"
    },
    "executionInfo": {
     "elapsed": 14,
     "status": "ok",
     "timestamp": 1712880338790,
     "user": {
      "displayName": "Sreyasi Biswas",
      "userId": "00119831621840843515"
     },
     "user_tz": -330
    },
    "id": "XjkNMnblu5w5",
    "outputId": "40575bb9-884c-449a-856f-2c3cc878cd52"
   },
   "outputs": [
    {
     "name": "stdout",
     "output_type": "stream",
     "text": [
      "(2304, 2) (2304,) (517, 2)\n"
     ]
    }
   ],
   "source": [
    "# Checking the shapes !!!\n",
    "print(srtm_lat_lon_np.shape, srtm_values.shape, imd_lat_lon_np.shape)"
   ]
  },
  {
   "cell_type": "code",
   "execution_count": 16,
   "metadata": {
    "colab": {
     "base_uri": "https://localhost:8080/"
    },
    "executionInfo": {
     "elapsed": 488,
     "status": "ok",
     "timestamp": 1712880340925,
     "user": {
      "displayName": "Sreyasi Biswas",
      "userId": "00119831621840843515"
     },
     "user_tz": -330
    },
    "id": "taAbR7_Ru8ck",
    "outputId": "04b8b83a-7317-476b-e128-dfd1b2fc982e"
   },
   "outputs": [
    {
     "name": "stdout",
     "output_type": "stream",
     "text": [
      "<class 'numpy.ndarray'>\n",
      "(517,)\n"
     ]
    }
   ],
   "source": [
    "# OBJECTIVE 5: Interpolate the srtm data on IMD grid points.\n",
    "\n",
    "# Interpolating srtm on IMD grid\n",
    "import scipy\n",
    "from scipy.interpolate import griddata\n",
    "\n",
    "\n",
    "zi = griddata( (srtm_lat_lon_np), srtm_values, (imd_lat_lon_np),method='nearest' )\n",
    "print(type(zi))\n",
    "print(zi.shape)\n"
   ]
  },
  {
   "cell_type": "code",
   "execution_count": 17,
   "metadata": {
    "colab": {
     "base_uri": "https://localhost:8080/"
    },
    "executionInfo": {
     "elapsed": 4,
     "status": "ok",
     "timestamp": 1712880343094,
     "user": {
      "displayName": "Sreyasi Biswas",
      "userId": "00119831621840843515"
     },
     "user_tz": -330
    },
    "id": "lPHktST0vCXN",
    "outputId": "1a84919b-b2b9-4808-c33e-6366ad2b7fb4"
   },
   "outputs": [
    {
     "name": "stdout",
     "output_type": "stream",
     "text": [
      "(34, 34)\n",
      "[[72.75 73.   73.25 ... 80.5  80.75 81.  ]\n",
      " [72.75 73.   73.25 ... 80.5  80.75 81.  ]\n",
      " [72.75 73.   73.25 ... 80.5  80.75 81.  ]\n",
      " ...\n",
      " [72.75 73.   73.25 ... 80.5  80.75 81.  ]\n",
      " [72.75 73.   73.25 ... 80.5  80.75 81.  ]\n",
      " [72.75 73.   73.25 ... 80.5  80.75 81.  ]]\n",
      "(34, 34)\n",
      "[[28.75 28.75 28.75 ... 28.75 28.75 28.75]\n",
      " [29.   29.   29.   ... 29.   29.   29.  ]\n",
      " [29.25 29.25 29.25 ... 29.25 29.25 29.25]\n",
      " ...\n",
      " [36.5  36.5  36.5  ... 36.5  36.5  36.5 ]\n",
      " [36.75 36.75 36.75 ... 36.75 36.75 36.75]\n",
      " [37.   37.   37.   ... 37.   37.   37.  ]]\n"
     ]
    }
   ],
   "source": [
    "# OBJECTIVE 6:Create a meshgrid\n",
    "\n",
    "xx1,yy1=np.meshgrid(lon_srtm_new,lat_srtm_new)\n",
    "print(xx1.shape)\n",
    "print(xx1)\n",
    "\n",
    "print(yy1.shape)\n",
    "print(yy1)\n",
    "\n",
    "# Note that the latitude values are from small to big"
   ]
  },
  {
   "cell_type": "code",
   "execution_count": 18,
   "metadata": {
    "colab": {
     "base_uri": "https://localhost:8080/"
    },
    "executionInfo": {
     "elapsed": 418,
     "status": "ok",
     "timestamp": 1712880347838,
     "user": {
      "displayName": "Sreyasi Biswas",
      "userId": "00119831621840843515"
     },
     "user_tz": -330
    },
    "id": "xg9kSH0mvFr4",
    "outputId": "995b0175-ffb3-495b-84e3-c98af0038fe4"
   },
   "outputs": [
    {
     "name": "stdout",
     "output_type": "stream",
     "text": [
      "   Latitude\n",
      "0     28.75\n",
      "1     29.00\n",
      "2     29.25\n",
      "3     29.50\n",
      "4     29.75\n",
      "   Longitude\n",
      "0      72.75\n",
      "1      73.00\n",
      "2      73.25\n",
      "3      73.50\n",
      "4      73.75\n"
     ]
    }
   ],
   "source": [
    "# Storing the latitude and the longitude\n",
    "os.chdir('/content/drive/MyDrive/lat_lon_collection')\n",
    "lat_length=lat_srtm_new.shape[0]\n",
    "lon_length=lon_srtm_new.shape[0]\n",
    "lat_list=[]\n",
    "lon_list=[]\n",
    "\n",
    "for i1 in range(0,lat_length,1):\n",
    "  lat_list.append(i1)\n",
    "\n",
    "for i2 in range(0,lon_length,1):\n",
    "  lon_list.append(i2)\n",
    "data1={\"Latitude\":lat_srtm_new}\n",
    "data2={\"Longitude\":lon_srtm_new}\n",
    "df1=pd.DataFrame(data1)\n",
    "print(df1.head())\n",
    "\n",
    "df2=pd.DataFrame(data2)\n",
    "print(df2.head())\n",
    "\n",
    "#df1.to_csv(\"SRTM_ON_IMD_LATITUDE_v2.csv\")\n",
    "#df2.to_csv(\"SRTM_ON_IMD_LONGITUDE_v2.csv\")"
   ]
  },
  {
   "cell_type": "code",
   "execution_count": 19,
   "metadata": {
    "colab": {
     "base_uri": "https://localhost:8080/"
    },
    "executionInfo": {
     "elapsed": 5,
     "status": "ok",
     "timestamp": 1712880351555,
     "user": {
      "displayName": "Sreyasi Biswas",
      "userId": "00119831621840843515"
     },
     "user_tz": -330
    },
    "id": "twFppUT-vQDt",
    "outputId": "32bf8e43-e659-499a-ff1a-dc9ff76f47fe"
   },
   "outputs": [
    {
     "name": "stdout",
     "output_type": "stream",
     "text": [
      "     Latitude  Longitude  SRTM_values\n",
      "0       37.00      74.75         4866\n",
      "1       37.00      75.25         4762\n",
      "2       36.75      74.00         4627\n",
      "3       36.75      74.25         4726\n",
      "4       36.75      74.50         4663\n",
      "..        ...        ...          ...\n",
      "512     29.25      80.25         1235\n",
      "513     29.00      79.50          276\n",
      "514     29.00      79.75          421\n",
      "515     29.00      80.00          545\n",
      "516     28.75      80.00          204\n",
      "\n",
      "[517 rows x 3 columns]\n",
      "(517, 3)\n",
      "3069.0\n"
     ]
    }
   ],
   "source": [
    "# OBJECTIVE 7: Create a dataframe that will contain the IMD lat, IMD lon, and the interpolated SRTM values.\n",
    "\n",
    "# Creating a dataframe\n",
    "data={'Latitude':imd_lat, 'Longitude':imd_lon, 'SRTM_values':zi}\n",
    "df_srtm=pd.DataFrame(data)\n",
    "print(df_srtm)\n",
    "\n",
    "df_srtm_np=df_srtm.to_numpy()\n",
    "print(df_srtm_np.shape)\n",
    "print(df_srtm_np[78,2])"
   ]
  },
  {
   "cell_type": "code",
   "execution_count": 20,
   "metadata": {
    "executionInfo": {
     "elapsed": 4,
     "status": "ok",
     "timestamp": 1712880354699,
     "user": {
      "displayName": "Sreyasi Biswas",
      "userId": "00119831621840843515"
     },
     "user_tz": -330
    },
    "id": "L8rW4XtyvSgq"
   },
   "outputs": [],
   "source": [
    "# OBJECTIVE 8: Fill the meshgrid with the new values\n",
    "\n",
    "# Defining a function to do the job.\n",
    "h1=df_srtm_np.shape[0]-1\n",
    "\n",
    "c=0\n",
    "k=0\n",
    "\n",
    "from array import*\n",
    "def values(lat2,lon2,srtm):\n",
    "    b=0\n",
    "    for h1 in range(srtm.shape[0]-1,-1,-1):\n",
    "        if (srtm[h1,0]==lat2)and(srtm[h1,1]==lon2):\n",
    "            value1=srtm[h1,2]\n",
    "            b=b+1\n",
    "    if b==1:\n",
    "        return value1\n",
    "    else:\n",
    "        value2=np.nan\n",
    "        return value2\n"
   ]
  },
  {
   "cell_type": "code",
   "execution_count": 21,
   "metadata": {
    "colab": {
     "base_uri": "https://localhost:8080/"
    },
    "executionInfo": {
     "elapsed": 704,
     "status": "ok",
     "timestamp": 1712880358529,
     "user": {
      "displayName": "Sreyasi Biswas",
      "userId": "00119831621840843515"
     },
     "user_tz": -330
    },
    "id": "QoIPxchVvUJ3",
    "outputId": "0555f3cc-2fe8-42b5-f7df-92f4a1e6465c"
   },
   "outputs": [
    {
     "name": "stdout",
     "output_type": "stream",
     "text": [
      "34 34\n",
      "1156\n",
      "(1156,)\n",
      "639\n"
     ]
    }
   ],
   "source": [
    "new_srtm=[] # For the interpolated data\n",
    "print(yy1.shape[0],xx1.shape[1])\n",
    "for i1 in range(0,yy1.shape[0],1):\n",
    "    for i2 in range(0,xx1.shape[1],1):\n",
    "        value_srtm=values(yy1[i1,i2],xx1[i1,i2],df_srtm_np)\n",
    "        new_srtm.append(value_srtm)\n",
    "\n",
    "print(len(new_srtm))\n",
    "new_srtm_np=np.array(new_srtm)\n",
    "print(new_srtm_np.shape)\n",
    "print((np.isnan(new_srtm_np)).sum())\n",
    "\n",
    "# Please check the number of nan values!!!"
   ]
  },
  {
   "cell_type": "code",
   "execution_count": 22,
   "metadata": {
    "colab": {
     "base_uri": "https://localhost:8080/",
     "height": 435
    },
    "executionInfo": {
     "elapsed": 848,
     "status": "ok",
     "timestamp": 1712880364194,
     "user": {
      "displayName": "Sreyasi Biswas",
      "userId": "00119831621840843515"
     },
     "user_tz": -330
    },
    "id": "4Q7hMsUWvV8O",
    "outputId": "f204482d-e5fd-43e3-933d-bdf32ae68b0e"
   },
   "outputs": [
    {
     "data": {
      "image/png": "[encoded data removed]",
      "text/plain": [
       "<Figure size 640x480 with 2 Axes>"
      ]
     },
     "metadata": {},
     "output_type": "display_data"
    }
   ],
   "source": [
    "new_srtm_reshaped=new_srtm_np.reshape(xx1.shape[0],xx1.shape[1])\n",
    "\n",
    "m=plt.contourf(xx1,yy1,new_srtm_reshaped,cmap='jet')\n",
    "plt.colorbar(m)\n",
    "plt.show()"
   ]
  },
  {
   "cell_type": "code",
   "execution_count": null,
   "metadata": {
    "colab": {
     "base_uri": "https://localhost:8080/"
    },
    "executionInfo": {
     "elapsed": 561,
     "status": "ok",
     "timestamp": 1712088856278,
     "user": {
      "displayName": "Sreyasi Biswas",
      "userId": "00119831621840843515"
     },
     "user_tz": -330
    },
    "id": "ft0O21EbvZgJ",
    "outputId": "46324845-ce1d-413f-c66a-001180653540"
   },
   "outputs": [
    {
     "name": "stdout",
     "output_type": "stream",
     "text": [
      "327\n",
      "(19, 31)\n"
     ]
    }
   ],
   "source": [
    "# Storing it as a csv file\n",
    "df_srtm_test=pd.DataFrame(data=new_srtm_reshaped,columns=lon_srtm_new,index=lat_srtm_new)\n",
    "print((np.isnan(new_srtm_reshaped)).sum())\n",
    "os.chdir(\"/content/drive/MyDrive/srtm_30m\")\n",
    "df_srtm_test.to_csv(\"srtm_LDK_of_IMD_resolution_and_on_IMD_grids.csv\")\n",
    "\n",
    "print(new_srtm_reshaped.shape)"
   ]
  },
  {
   "cell_type": "code",
   "execution_count": null,
   "metadata": {
    "id": "-RM51jeMvqiA"
   },
   "outputs": [],
   "source": []
  }
 ],
 "metadata": {
  "colab": {
   "authorship_tag": "ABX9TyMfe/o3hyi7aVSdonV5+xOq",
   "provenance": []
  },
  "kernelspec": {
   "display_name": "Python 3 (ipykernel)",
   "language": "python",
   "name": "python3"
  },
  "language_info": {
   "codemirror_mode": {
    "name": "ipython",
    "version": 3
   },
   "file_extension": ".py",
   "mimetype": "text/x-python",
   "name": "python",
   "nbconvert_exporter": "python",
   "pygments_lexer": "ipython3",
   "version": "3.10.11"
  }
 },
 "nbformat": 4,
 "nbformat_minor": 4
}
